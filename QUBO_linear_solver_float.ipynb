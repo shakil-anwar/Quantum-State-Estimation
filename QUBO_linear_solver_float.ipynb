{
 "cells": [
  {
   "cell_type": "markdown",
   "metadata": {},
   "source": [
    "## MATRIX INVERSION AS A QUBO PROBLEM\n",
    "\n",
    "Ref  \n",
    "[1.Floating-Point Calculations on a Quantum Annealer:\n",
    "Division and Matrix Inversion](https://arxiv.org/pdf/1901.06526.pdf)\n",
    "\n",
    "In this section we present an algorithm for solving a system of linear equations on a\n",
    "quantum annealer. To precisely define the mathematical problem, let $M$ be a nonsingular $N × N$ real matrix, and let $Y$ be a real $N$ dimensional vector; we then wish to solve the linear equation\n",
    "$$ M · x = Y$$\n",
    "The linearity of the system means that there is a unique solution,\n",
    "$$x = M^{−1} · Y$$\n",
    "\n",
    "Constructing a quadratic matrix \n",
    "$$H(x) = (M x − Y)^2 = (M x − Y)^T · (M x − Y)$$\n",
    "$$H(x) = x^T M^T Mx - x^T M^T Y - Y^T M x +Y^T Y$$\n",
    "$$H(x) = \\sum_{ijk=1}^{N} M_{ki} M_{kj} x^i x^j - 2\\sum_{ij=1}^N Y_j M_{ji} x^i + ||Y^2||$$\n",
    "To obtain a floating point representation of each component\n",
    "of $x = (x_1, · · · , x_N)^T$ by expanding in powers of 2 multiplied by Boolean-valued variables\n",
    "$$\\chi^i = \\sum_{r=0}^{R-1} 2^{-r}q_r^i $$\n",
    "$$x^i = 2\\chi^i-1$$\n",
    "\n",
    "And to obtain integer representation, the real value $x_i$\n",
    "\n",
    "$$ x_i = \\sum_{l=-m}^m 2^{-l} q_{i,l}$$\n",
    "\n",
    "\n",
    "As before, the domains are given by $\\chi^i\\in [0, 2)$ and $x^i \\in [−1, 3)$, and upon expressing $x$ as a function the $q_r^i$ we can recast $H(x)$ in the form  \n",
    "$$H(q) = \\sum_{i=1}^{N}\\sum_{r=0}^{R-1} a_r^i q_r^j + \\sum_{i=1}^N \\sum_{i\\neq j=1}^N \\sum_{r=0}^{R-1} \\sum_{s=0}^{R-1} b_{rs}^{ij} q_{r}^i q_s^i$$\n",
    "\n",
    "where $N$ is dimention of coefficient matrix and $R$ is resolution of qbit\n",
    "$$a_r^i = \\sum_{k=0}^{N-1}\\sum_{i=0}^{N-1}\\sum_{r=0}^{R-1}2^{1-r}(a_{ki}^2-a_{ki}b_k) - \\sum_{k=0}^{N-1}\\sum_{i=0}^{N-1}\\sum_{r=0}^{R-1}\\sum_{j>i}^{N-1}2^{2-r}a_{ki}a_{kj}$$\n",
    "\n",
    "$$b_{rs}^{ij} = \\sum_{k=0}^{N-1}\\sum_{i=0}^{N-1}\\sum_{j>i}^{N-1}\\sum_{r=0}^{R-1}\\sum_{s=0}^{R-1}2^{2-r-s}a_{ki}a_{kj}$$"
   ]
  },
  {
   "cell_type": "code",
   "execution_count": 1,
   "metadata": {
    "_cell_guid": "b1076dfc-b9ad-4769-8c92-a6c4dae69d19",
    "_uuid": "8f2839f25d086af736a60e9eeb907d3b93b6e0e5",
    "scrolled": true
   },
   "outputs": [],
   "source": [
    "# This Python 3 environment comes with many helpful analytics libraries installed\n",
    "# It is defined by the kaggle/python Docker image: https://github.com/kaggle/docker-python\n",
    "# For example, here's several helpful packages to load\n",
    "\n",
    "import numpy as np\n",
    "import random, math\n",
    "import copy\n",
    "\n",
    "Dimension = 1\n",
    "qubits = 4\n",
    "N = Dimension\n",
    "R = qubits\n",
    "M = np.array([[0.5, 1.5], [1.5, 0.5]])\n",
    "Y = np.array([0,1])\n",
    "\n"
   ]
  },
  {
   "source": [
    "## Decomposition of single float variable"
   ],
   "cell_type": "markdown",
   "metadata": {}
  },
  {
   "cell_type": "code",
   "execution_count": 4,
   "metadata": {},
   "outputs": [
    {
     "output_type": "stream",
     "name": "stdout",
     "text": [
      "['q1', 'q2', 'q3', 'q4']\n{('q1', 'q1'): -6, ('q2', 'q2'): -3.5, ('q3', 'q3'): -1.875, ('q4', 'q4'): -0.96875}\n{('q1', 'q2'): 1.0, ('q1', 'q3'): 0.5, ('q1', 'q4'): 0.25, ('q2', 'q3'): 0.25, ('q2', 'q4'): 0.125, ('q3', 'q4'): 0.0625}\n"
     ]
    }
   ],
   "source": [
    "a = 1\n",
    "b = -1\n",
    "\n",
    "r_qbit = 4\n",
    "a_l = {}\n",
    "b_lm = {}\n",
    "\n",
    "qbit_list = []\n",
    "for val in range(r_qbit):\n",
    "    qbit_list.append('q'+str(val+1)) \n",
    "print(qbit_list)\n",
    "\n",
    "for r in range(r_qbit):\n",
    "    a_l[(qbit_list[r],qbit_list[r])] = 2*pow(a,2)*pow(2,-2*r)-4*pow(a,2)*pow(2,-r)+4*a*b*pow(2,-r)\n",
    "\n",
    "for r in range(r_qbit-1):\n",
    "    for s in range(r+1,r_qbit):\n",
    "            b_lm[(qbit_list[r],qbit_list[s])] = 2*pow(a,2)*pow(2,-r-s)\n",
    "\n",
    "print(a_l)\n",
    "print(b_lm)"
   ]
  },
  {
   "cell_type": "code",
   "execution_count": 116,
   "metadata": {},
   "outputs": [
    {
     "output_type": "stream",
     "name": "stdout",
     "text": [
      "4\n['q1', 'q2', 'q3', 'q4']\n{('q1', 'q1'): -4, ('q2', 'q2'): -3.0, ('q3', 'q3'): -1.75, ('q4', 'q4'): -0.9375}\n{('q1', 'q2'): 2.0, ('q1', 'q3'): 1.0, ('q1', 'q4'): 0.5, ('q2', 'q3'): 0.5, ('q2', 'q4'): 0.25, ('q3', 'q4'): 0.125}\n[[0. 0. 0. 0.]\n [0. 0. 0. 0.]\n [0. 0. 0. 0.]\n [0. 0. 0. 0.]]\n"
     ]
    }
   ],
   "source": [
    "l_max = N*R\n",
    "print(l_max)\n",
    "a_l = {}\n",
    "QM = np.zeros((qubits*Dimension, qubits*Dimension))\n",
    "# a_l[0][1] = 2\n",
    "# print(a_l)\n",
    "b_lm = {}\n",
    "\n",
    "qbit_list = []\n",
    "for val in range(N*R):\n",
    "    qbit_list.append('q'+str(val+1)) \n",
    "print(qbit_list)\n",
    "\n",
    "for r in range(R):\n",
    "    for s in range(R):\n",
    "        for k in range(N):\n",
    "            for i in range(N-1):\n",
    "                for j in range(i+1,N):\n",
    "                    # if i!=j:\n",
    "                    pos1=i*R+r\n",
    "                    pos2=j*R+s\n",
    "                    QM[pos1][pos2]= QM[pos1][pos2]+8*pow(2,-(r+s))*M[k][i]+M[k][j]\n",
    "\n",
    "\n",
    "for i in range(N-1):\n",
    "    for r in range(R):\n",
    "        for s in range(R):\n",
    "            b_lm[(qbit_list[i*R+r],qbit_list[(i+1)*R+s])]=QM[r][R+s]\n",
    "\n",
    "\n",
    "for r in range(R):\n",
    "    for i in range(N):\n",
    "        pos = (qbit_list[i*R+r],qbit_list[i*R+r])\n",
    "        if pos not in a_l:\n",
    "            a_l[pos] = 0\n",
    "        for k in range(N):\n",
    "            for j in range(N):\n",
    "                a_l[pos] = a_l[pos]+M[k][j]\n",
    "            a_l[pos] = a_l[pos]+Y[k]\n",
    "            a_l[pos] =pow(2,-r)*M[k][i]- a_l[pos]\n",
    "            a_l[pos] = a_l[pos]*M[k][i]\n",
    "        a_l[pos] = a_l[pos]*4*pow(2,-r)\n",
    "\n",
    "for r in range(R):\n",
    "    for s in range(r+1,R):\n",
    "        for k in range(N):\n",
    "            b_lm[(qbit_list[r],qbit_list[s])]=4*pow(2,-(r+s))*pow(M[k][k],2)\n",
    "\n",
    "    \n",
    "print(a_l)\n",
    "print(b_lm)\n",
    "\n",
    "print(QM)\n",
    "\n"
   ]
  },
  {
   "cell_type": "markdown",
   "metadata": {},
   "source": [
    "## Apply QUBO"
   ]
  },
  {
   "cell_type": "code",
   "execution_count": 35,
   "metadata": {},
   "outputs": [
    {
     "output_type": "stream",
     "name": "stdout",
     "text": [
      "['q1', 'q2', 'q3', 'q4', 'q5', 'q6', 'q7', 'q8']\n{('q1', 'q1'): -4.0, ('q1', 'q2'): 2.5, ('q1', 'q3'): 1.25, ('q1', 'q4'): 0.625, ('q1', 'q6'): 1.5, ('q1', 'q7'): 0.75, ('q1', 'q8'): 0.375, ('q2', 'q2'): -2.0, ('q2', 'q3'): 0.625, ('q2', 'q4'): 0.3125, ('q2', 'q5'): 0.75, ('q2', 'q7'): 0.375, ('q2', 'q8'): 0.1875, ('q3', 'q3'): -1.0, ('q3', 'q4'): 0.15625, ('q3', 'q5'): 0.375, ('q3', 'q6'): 0.1875, ('q3', 'q8'): 0.09375, ('q4', 'q4'): -0.5, ('q4', 'q5'): 0.1875, ('q4', 'q6'): 0.09375, ('q4', 'q7'): 0.046875, ('q5', 'q5'): 4.0, ('q5', 'q6'): 2.5, ('q5', 'q7'): 1.25, ('q5', 'q8'): 0.625, ('q6', 'q6'): 2.0, ('q6', 'q7'): 0.625, ('q6', 'q8'): 0.3125, ('q7', 'q7'): 1.0, ('q7', 'q8'): 0.15625, ('q8', 'q8'): 0.5}\n"
     ]
    }
   ],
   "source": [
    "qbit_list = []\n",
    "for val in range(N*R):\n",
    "    qbit_list.append('q'+str(val+1)) \n",
    "print(qbit_list)\n",
    "Q2 = {}\n",
    "for i in range(len(qbit_list)):\n",
    "    for j in range(len(qbit_list)):\n",
    "        if QM[i][j] != 0:\n",
    "            Q2[(qbit_list[i],qbit_list[j])] = QM[i][j]\n",
    "            \n",
    "print(Q2)\n",
    "            "
   ]
  },
  {
   "cell_type": "code",
   "execution_count": 6,
   "metadata": {
    "tags": []
   },
   "outputs": [
    {
     "output_type": "stream",
     "name": "stdout",
     "text": [
      "   q1 q2 q3 q4    energy num_oc. chain_.\n0   1  1  1  1 -10.15625     141     0.0\n1   1  1  1  0    -9.625     267     0.0\n2   1  1  0  1  -9.09375      95     0.0\n3   1  1  0  0      -8.5     173     0.0\n4   1  0  1  1  -8.03125      39     0.0\n5   1  0  1  0    -7.375      68     0.0\n6   1  0  0  1  -6.71875      19     0.0\n7   1  0  0  0      -6.0      28     0.0\n8   0  1  1  1  -5.90625      38     0.0\n16  0  1  1  1  -5.90625       1    0.25\n9   0  1  1  0    -5.125      74     0.0\n10  0  1  0  1  -4.34375      19     0.0\n11  0  1  0  0      -3.5      20     0.0\n12  0  0  1  1  -2.78125       3     0.0\n13  0  0  1  0    -1.875      10     0.0\n14  0  0  0  1  -0.96875       2     0.0\n15  0  0  0  0       0.0       3     0.0\n['BINARY', 17 rows, 1000 samples, 4 variables]\n"
     ]
    }
   ],
   "source": [
    "from dwave.system import DWaveSampler, EmbeddingComposite\n",
    "sampler_auto = EmbeddingComposite(DWaveSampler(solver={'qpu': True}))\n",
    "\n",
    "linear = {('q1','q1'):26.0, ('q2','q2'):72.0, ('q3','q3'):-6.0, ('q4','q4'):8.0, ('q5','q5'):-13.0, ('q6','q6'):-16.0, ('q7','q7'):23.0, ('q8','q8'):56.0}\n",
    "\n",
    "quadratic = {('q1','q2'):40.0, ('q1','q5'):2.0, ('q1','q6'):4.0, ('q1','q7'):-2.0, ('q1','q8'):-4.0, ('q2','q5'):4.0, ('q2','q6'):8.0, ('q2','q7'):-4.0, ('q2','q8'):-8.0, ('q3','q4'):40.0, ('q3','q5'):-2.0, ('q3','q6'):-4.0, ('q3','q7'):2.0, ('q3','q8'):4.0, ('q4','q5'):-4.0, ('q4','q6'):-8.0, ('q4','q7'):4.0, ('q4','q8'):8.0, ('q5','q6'):20.0, ('q7','q8'):20.0}\n",
    "\n",
    "Q = dict(linear)\n",
    "Q.update(quadratic)\n",
    "Q3 = dict(a_l)\n",
    "Q3.update(b_lm)\n",
    "\n",
    "# print(Q)\n",
    "\n",
    "sampleset = sampler_auto.sample_qubo(Q3, num_reads=1000, chain_strength=20)\n",
    "print(sampleset)"
   ]
  },
  {
   "cell_type": "markdown",
   "metadata": {},
   "source": [
    "### Convert Qbit to Decimal "
   ]
  },
  {
   "cell_type": "code",
   "execution_count": 8,
   "metadata": {},
   "outputs": [
    {
     "output_type": "stream",
     "name": "stdout",
     "text": [
      "[array([1, 1, 1, 1], dtype=int8)]\nOutput:  [2.75]\ninput A:  1  b:  -1\n"
     ]
    }
   ],
   "source": [
    "samples = sampleset.samples()\n",
    "# print(samples[0])\n",
    "Dimension = 1 \n",
    "qbit_per_var_count = int(len(qbit_list)/Dimension)\n",
    "\n",
    "qbit_per_var = []\n",
    "for i in range(Dimension):\n",
    "    qbit_per_var.append(samples[i,qbit_list[qbit_per_var_count*i:qbit_per_var_count*(i+1)]])\n",
    "\n",
    "print(qbit_per_var)\n",
    "res = []\n",
    "\n",
    "for i in range(1):\n",
    "    res.append(0)\n",
    "    for j in range(4):\n",
    "        res[i] += (pow(2,-j)*qbit_per_var[i][j])\n",
    "    res[i] = 2*res[i]-1\n",
    "\n",
    "print(\"Output: \", res)\n",
    "print(\"input A: \", a,\" b: \", b)\n",
    "    \n"
   ]
  },
  {
   "cell_type": "code",
   "execution_count": 66,
   "metadata": {},
   "outputs": [
    {
     "output_type": "stream",
     "name": "stdout",
     "text": [
      "({'q1': -0.25, 'q2': 0.1875, 'q3': 0.171875, 'q4': 0.10546875, 'q6': 2.3046875, 'q7': 1.30078125, 'q8': 0.6875, 'q5': 3.421875}, {('q1', 'q2'): 0.625, ('q1', 'q3'): 0.3125, ('q1', 'q4'): 0.15625, ('q1', 'q6'): 0.375, ('q1', 'q7'): 0.1875, ('q1', 'q8'): 0.09375, ('q2', 'q3'): 0.15625, ('q2', 'q4'): 0.078125, ('q2', 'q5'): 0.1875, ('q2', 'q7'): 0.09375, ('q2', 'q8'): 0.046875, ('q3', 'q4'): 0.0390625, ('q3', 'q5'): 0.09375, ('q3', 'q6'): 0.046875, ('q3', 'q8'): 0.0234375, ('q4', 'q5'): 0.046875, ('q4', 'q6'): 0.0234375, ('q4', 'q7'): 0.01171875, ('q5', 'q6'): 0.625, ('q5', 'q7'): 0.3125, ('q5', 'q8'): 0.15625, ('q6', 'q7'): 0.15625, ('q6', 'q8'): 0.078125, ('q7', 'q8'): 0.0390625}, 3.96484375)\n"
     ]
    }
   ],
   "source": [
    "import dimod\n",
    "\n",
    "#print(Q)\n",
    "J = dimod.qubo_to_ising(Q2)\n",
    "print(J)"
   ]
  },
  {
   "cell_type": "code",
   "execution_count": 42,
   "metadata": {},
   "outputs": [
    {
     "name": "stdout",
     "output_type": "stream",
     "text": [
      "   q1 q2 q3 q4 q5 q6 q7 q8    energy num_oc. chain_.\n",
      "0  -1 +1 +1 +1 -1 +1 +1 +1 -5.992188     338     0.0\n",
      "1  -1 +1 +1 +1 -1 +1 +1 -1 -5.492188      57     0.0\n",
      "2  -1 +1 +1 +1 -1 +1 -1 +1 -4.992188      32     0.0\n",
      "3  -1 +1 +1 -1 -1 +1 +1 +1 -4.992188      28     0.0\n",
      "4  +1 -1 +1 +1 -1 +1 +1 +1 -4.992188      83     0.0\n",
      "5  +1 +1 +1 +1 -1 -1 +1 +1 -4.992188      41     0.0\n",
      "6  +1 -1 +1 +1 -1 +1 +1 -1 -4.867188      55     0.0\n",
      "7  +1 +1 +1 -1 -1 -1 +1 +1 -4.867188      34     0.0\n",
      "8  +1 +1 -1 +1 -1 -1 +1 +1 -4.742188      13     0.0\n",
      "9  +1 -1 +1 +1 -1 +1 -1 +1 -4.742188      27     0.0\n",
      "10 +1 +1 -1 +1 -1 +1 -1 +1 -4.617188      16     0.0\n",
      "11 +1 -1 +1 -1 -1 +1 +1 +1 -4.617188      32     0.0\n",
      "12 +1 +1 +1 +1 -1 -1 +1 -1 -4.617188      17     0.0\n",
      "13 +1 +1 +1 -1 -1 +1 -1 +1 -4.554688      15     0.0\n",
      "14 +1 +1 -1 +1 -1 +1 +1 -1 -4.554688      16     0.0\n",
      "15 +1 -1 +1 +1 -1 -1 +1 +1 -4.492188      15     0.0\n",
      "16 +1 +1 -1 +1 -1 +1 +1 +1 -4.492188      10     0.0\n",
      "17 +1 +1 +1 +1 -1 +1 -1 +1 -4.492188      11     0.0\n",
      "18 +1 +1 +1 +1 -1 +1 -1 -1 -4.429688      10     0.0\n",
      "19 +1 +1 -1 -1 -1 +1 +1 +1 -4.429688      15     0.0\n",
      "20 -1 +1 +1 -1 -1 +1 +1 -1 -4.398438       3     0.0\n",
      "21 +1 -1 +1 -1 -1 +1 +1 -1 -4.398438      17     0.0\n",
      "22 +1 +1 -1 -1 -1 +1 +1 -1 -4.398438       8     0.0\n",
      "23 +1 +1 +1 -1 -1 +1 -1 -1 -4.398438       3     0.0\n",
      "24 +1 +1 +1 -1 -1 +1 +1 -1 -4.398438       9     0.0\n",
      "25 +1 +1 +1 -1 -1 -1 +1 -1 -4.398438       6     0.0\n",
      "26 +1 +1 -1 +1 -1 +1 -1 -1 -4.367188       5     0.0\n",
      "27 +1 +1 -1 -1 -1 +1 -1 +1 -4.367188       9     0.0\n",
      "28 +1 -1 +1 +1 -1 +1 -1 -1 -4.304688       5     0.0\n",
      "29 +1 +1 -1 -1 -1 -1 +1 +1 -4.304688       3     0.0\n",
      "30 +1 +1 +1 -1 -1 +1 +1 +1 -4.242188       7     0.0\n",
      "31 +1 +1 +1 +1 -1 +1 +1 -1 -4.242188       8     0.0\n",
      "32 +1 +1 +1 +1 -1 -1 -1 +1 -4.242188       4     0.0\n",
      "33 +1 -1 -1 +1 -1 +1 +1 +1 -4.242188       8     0.0\n",
      "34 +1 -1 +1 -1 -1 +1 -1 +1 -4.179688       8     0.0\n",
      "35 -1 +1 +1 +1 -1 +1 -1 -1 -4.179688       2     0.0\n",
      "36 +1 +1 -1 +1 -1 -1 +1 -1 -4.179688       2     0.0\n",
      "37 +1 +1 -1 -1 -1 +1 -1 -1 -4.023438       5     0.0\n",
      "38 -1 +1 -1 +1 -1 +1 +1 +1 -3.992188       1     0.0\n",
      "39 +1 +1 +1 +1 -1 +1 +1 +1 -3.992188       1     0.0\n",
      "40 +1 +1 +1 -1 -1 -1 -1 +1 -3.929688       1     0.0\n",
      "41 +1 -1 -1 +1 -1 +1 +1 -1 -3.929688       2     0.0\n",
      "42 -1 +1 +1 -1 -1 +1 -1 +1 -3.804688       2     0.0\n",
      "43 +1 -1 +1 +1 -1 -1 +1 -1 -3.742188       1     0.0\n",
      "44 +1 -1 +1 -1 -1 -1 +1 +1 -3.742188       1     0.0\n",
      "45 +1 -1 +1 -1 -1 +1 -1 -1 -3.648438       1     0.0\n",
      "46 +1 +1 -1 -1 -1 -1 +1 -1 -3.648438       1     0.0\n",
      "47 +1 -1 -1 +1 -1 +1 -1 +1 -3.617188       3     0.0\n",
      "48 -1 +1 -1 +1 -1 +1 +1 -1 -3.304688       1     0.0\n",
      "49 -1 +1 +1 +1 +1 -1 -1 +1 -3.242188       3     0.0\n",
      "50 -1 +1 +1 +1 +1 -1 -1 -1 -3.054688       1     0.0\n",
      "51 -1 +1 +1 -1 +1 -1 +1 -1 -2.398438       1     0.0\n",
      "53 +1 -1 +1 +1 +1 -1 -1 +1 -1.492188       1     0.0\n",
      "52 -1 +1 +1 +1 +1 +1 +1 -1 -0.742188       1   0.125\n",
      "54 +1 +1 -1 +1 +1 -1 +1 -1  0.070312       1     0.0\n",
      "['SPIN', 55 rows, 1000 samples, 8 variables]\n"
     ]
    }
   ],
   "source": [
    "sampleset = sampler_auto.sample_ising(J[0], J[1], num_reads=1000)\n",
    "print(sampleset)"
   ]
  },
  {
   "cell_type": "code",
   "execution_count": null,
   "metadata": {},
   "outputs": [],
   "source": []
  }
 ],
 "metadata": {
  "interpreter": {
   "hash": "4cd7ab41f5fca4b9b44701077e38c5ffd31fe66a6cab21e0214b68d958d0e462"
  },
  "kernelspec": {
   "name": "python3",
   "display_name": "Python 3.9.16 64-bit"
  },
  "language_info": {
   "codemirror_mode": {
    "name": "ipython",
    "version": 3
   },
   "file_extension": ".py",
   "mimetype": "text/x-python",
   "name": "python",
   "nbconvert_exporter": "python",
   "pygments_lexer": "ipython3",
   "version": "3.9.16"
  },
  "toc": {
   "base_numbering": 1,
   "nav_menu": {},
   "number_sections": true,
   "sideBar": true,
   "skip_h1_title": false,
   "title_cell": "Table of Contents",
   "title_sidebar": "Contents",
   "toc_cell": false,
   "toc_position": {},
   "toc_section_display": true,
   "toc_window_display": false
  }
 },
 "nbformat": 4,
 "nbformat_minor": 4
}