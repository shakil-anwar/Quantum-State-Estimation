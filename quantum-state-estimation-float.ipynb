{
 "cells": [
  {
   "cell_type": "markdown",
   "metadata": {},
   "source": [
    "## MATRIX INVERSION AS A QUBO PROBLEM\n",
    "\n",
    "Ref  \n",
    "[1.Floating-Point Calculations on a Quantum Annealer:\n",
    "Division and Matrix Inversion](https://arxiv.org/pdf/1901.06526.pdf)\n",
    "\n",
    "In this section we present an algorithm for solving a system of linear equations on a\n",
    "quantum annealer. To precisely define the mathematical problem, let $M$ be a nonsingular $N × N$ real matrix, and let $Y$ be a real $N$ dimensional vector; we then wish to solve the linear equation\n",
    "$$ M · x = Y$$\n",
    "The linearity of the system means that there is a unique solution,\n",
    "$$x = M^{−1} · Y$$\n",
    "\n",
    "Constructing a quadratic matrix \n",
    "$$H(x) = (M x − Y)^2 = (M x − Y)^T · (M x − Y)$$\n",
    "$$H(x) = x^T M^T Mx - x^T M^T Y - Y^T M x +Y^T Y$$\n",
    "$$H(x) = \\sum_{ijk=1}^{N} M_{ki} M_{kj} x^i x^j - 2\\sum_{ij=1}^N Y_j M_{ji} x^i + ||Y^2||$$\n",
    "To obtain a floating point representation of each component\n",
    "of $x = (x_1, · · · , x_N)^T$ by expanding in powers of 2 multiplied by Boolean-valued variables\n",
    "$$\\chi^i = \\sum_{r=0}^{R-1} 2^{-r}q_r^i $$\n",
    "$$x^i = 2\\chi^i-1$$\n",
    "\n",
    "And to obtain integer representation, the real value $x_i$\n",
    "\n",
    "$$ x_i = \\sum_{l=-m}^m 2^{-l} q_{i,l}\n",
    "\n",
    "\n",
    "As before, the domains are given by $\\chi^i\\in [0, 2)$ and $x^i \\in [−1, 3)$, and upon expressing $x$ as a function the $q_r^i$ we can recast $H(x)$ in the form  \n",
    "$$H(q) = \\sum_{i=1}^{N}\\sum_{r=0}^{R-1} a_r^i q_r^j + \\sum_{i=1}^N \\sum_{i\\neq j=1}^N \\sum_{r=0}^{R-1} \\sum_{s=0}^{R-1} b_{rs}^{ij} q_{r}^i q_s^i$$"
   ]
  },
  {
   "cell_type": "code",
   "execution_count": 10,
   "metadata": {
    "_cell_guid": "b1076dfc-b9ad-4769-8c92-a6c4dae69d19",
    "_uuid": "8f2839f25d086af736a60e9eeb907d3b93b6e0e5",
    "scrolled": true
   },
   "outputs": [],
   "source": [
    "# This Python 3 environment comes with many helpful analytics libraries installed\n",
    "# It is defined by the kaggle/python Docker image: https://github.com/kaggle/docker-python\n",
    "# For example, here's several helpful packages to load\n",
    "\n",
    "import numpy as np\n",
    "import random, math\n",
    "import copy\n",
    "\n",
    "Dimension = 2\n",
    "qubits = 4\n",
    "N = Dimension\n",
    "R = qubits\n",
    "M = np.array([[1.0, 2.0], [0.5, 0.5]])\n",
    "Y = np.array([1, 0])"
   ]
  },
  {
   "cell_type": "code",
   "execution_count": 15,
   "metadata": {
    "scrolled": true
   },
   "outputs": [
    {
     "name": "stdout",
     "output_type": "stream",
     "text": [
      "8\n",
      "[[-13.         2.5        1.25       0.625      9.         4.5\n",
      "    2.25       1.125   ]\n",
      " [  2.5       -7.75       0.625      0.3125     4.5        2.25\n",
      "    1.125      0.5625  ]\n",
      " [  1.25       0.625     -4.1875     0.15625    2.25       1.125\n",
      "    0.5625     0.28125 ]\n",
      " [  0.625      0.3125     0.15625   -2.171875   1.125      0.5625\n",
      "    0.28125    0.140625]\n",
      " [  0.         0.         0.         0.       -17.         8.5\n",
      "    4.25       2.125   ]\n",
      " [  0.         0.         0.         0.         8.5      -12.75\n",
      "    2.125      1.0625  ]\n",
      " [  0.         0.         0.         0.         4.25       2.125\n",
      "   -7.4375     0.53125 ]\n",
      " [  0.         0.         0.         0.         2.125      1.0625\n",
      "    0.53125   -3.984375]]\n"
     ]
    }
   ],
   "source": [
    "l_max = N*R\n",
    "print(l_max)\n",
    "a_l = np.zeros((1, l_max))\n",
    "QM = np.zeros((qubits*Dimension, qubits*Dimension))\n",
    "# a_l[0][1] = 2\n",
    "# print(a_l)\n",
    "b_lm = np.zeros([l_max, l_max], dtype=float)\n",
    "# print(b_lm)\n",
    "for k in range(N):    \n",
    "    for i in range(N):\n",
    "        sum_Mkj = 0.0;\n",
    "        for r in range(R):\n",
    "            cef1 = 4*pow(2,-2*r)*pow(M[k][i],2)\n",
    "            sum_kj = 0;\n",
    "            for j in range(N):\n",
    "                sum_kj = sum_kj+ M[k][j]\n",
    "                \n",
    "            cef2 = 4*pow(2,-r)*M[k][i]*(Y[k]+sum_kj)\n",
    "            po1 = i*R+r\n",
    "            a_l[0][po1] = a_l[0][po1] + cef1 - cef2\n",
    "            QM[po1][po1] = QM[po1][po1] + cef1 - cef2\n",
    "    \n",
    "# print(a_l)\n",
    "# print(QM)\n",
    "\n",
    "for k in range(N):\n",
    "    for i in range(N):\n",
    "            for j in range(i,N):\n",
    "                for r in range(R):\n",
    "                    for s in range(R):\n",
    "                        po1 = R*i + r\n",
    "                        po2 = R*j + s\n",
    "#                         print(\"pos1: \",po1,\" pos2: \", po2)\n",
    "                        if po1 != po2:\n",
    "                            qcef = 4*pow(2, -(r+s))*M[k][i]*M[k][j]\n",
    "                            QM[po1][po2] = QM[po1][po2] + qcef\n",
    "                        \n",
    "\n",
    "print(QM)\n",
    "                                         \n",
    "# for s in range(R):\n",
    "# #     i_l = math.floor(l/R)\n",
    "# #     print(\"i_m: \", i_l)\n",
    "#     for r in range(R):\n",
    "# #         i_m = math.floor(m/R)\n",
    "# #         print(\"m: \", m, \" i_m: \", i_m)\n",
    "#         for i in range(N):\n",
    "#             l = i*R+r\n",
    "#             m = i*R+s\n",
    "#             print(\"s: \",s,\" r: \",r,\" i: \",i, \" m: \", m, \" l: \", l)\n",
    "#             for k in range(N):\n",
    "#                 b_lm[l][m] = b_lm[l][m]+4*pow(2,-(r+s)) * M[k][i]*M[k][i]\n",
    "            \n",
    "#         b_lm[l][m] = b_lm[l][m] * 4 * pow(2,-(i_l+i_m))\n",
    "\n",
    "# print(b_lm)"
   ]
  },
  {
   "cell_type": "markdown",
   "metadata": {},
   "source": [
    "## Apply QUBO"
   ]
  },
  {
   "cell_type": "code",
   "execution_count": 16,
   "metadata": {},
   "outputs": [
    {
     "name": "stdout",
     "output_type": "stream",
     "text": [
      "['q1', 'q2', 'q3', 'q4', 'q5', 'q6', 'q7', 'q8']\n",
      "{('q1', 'q1'): -13.0, ('q1', 'q2'): 2.5, ('q1', 'q3'): 1.25, ('q1', 'q4'): 0.625, ('q1', 'q5'): 9.0, ('q1', 'q6'): 4.5, ('q1', 'q7'): 2.25, ('q1', 'q8'): 1.125, ('q2', 'q1'): 2.5, ('q2', 'q2'): -7.75, ('q2', 'q3'): 0.625, ('q2', 'q4'): 0.3125, ('q2', 'q5'): 4.5, ('q2', 'q6'): 2.25, ('q2', 'q7'): 1.125, ('q2', 'q8'): 0.5625, ('q3', 'q1'): 1.25, ('q3', 'q2'): 0.625, ('q3', 'q3'): -4.1875, ('q3', 'q4'): 0.15625, ('q3', 'q5'): 2.25, ('q3', 'q6'): 1.125, ('q3', 'q7'): 0.5625, ('q3', 'q8'): 0.28125, ('q4', 'q1'): 0.625, ('q4', 'q2'): 0.3125, ('q4', 'q3'): 0.15625, ('q4', 'q4'): -2.171875, ('q4', 'q5'): 1.125, ('q4', 'q6'): 0.5625, ('q4', 'q7'): 0.28125, ('q4', 'q8'): 0.140625, ('q5', 'q5'): -17.0, ('q5', 'q6'): 8.5, ('q5', 'q7'): 4.25, ('q5', 'q8'): 2.125, ('q6', 'q5'): 8.5, ('q6', 'q6'): -12.75, ('q6', 'q7'): 2.125, ('q6', 'q8'): 1.0625, ('q7', 'q5'): 4.25, ('q7', 'q6'): 2.125, ('q7', 'q7'): -7.4375, ('q7', 'q8'): 0.53125, ('q8', 'q5'): 2.125, ('q8', 'q6'): 1.0625, ('q8', 'q7'): 0.53125, ('q8', 'q8'): -3.984375}\n"
     ]
    }
   ],
   "source": [
    "qbit_list = []\n",
    "for val in range(N*R):\n",
    "    qbit_list.append('q'+str(val+1)) \n",
    "print(qbit_list)\n",
    "Q2 = {}\n",
    "for i in range(len(qbit_list)):\n",
    "    for j in range(len(qbit_list)):\n",
    "        if QM[i][j] != 0:\n",
    "            Q2[(qbit_list[i],qbit_list[j])] = QM[i][j]\n",
    "            \n",
    "print(Q2)\n",
    "            "
   ]
  },
  {
   "cell_type": "code",
   "execution_count": 17,
   "metadata": {},
   "outputs": [
    {
     "name": "stdout",
     "output_type": "stream",
     "text": [
      "   q1 q2 q3 q4 q5 q6 q7 q8     energy num_oc. chain_.\n",
      "0   1  0  0  1  0  1  1  0 -22.265625      75     0.0\n",
      "1   1  0  1  0  0  1  0  1 -22.265625      34     0.0\n",
      "2   1  0  0  1  0  1  0  1 -22.203125      64     0.0\n",
      "3   1  0  1  0  0  1  1  0   -22.1875      30     0.0\n",
      "4   1  0  0  0  0  1  1  0   -22.1875      42     0.0\n",
      "5   1  0  1  1  0  1  0  1 -22.171875      47     0.0\n",
      "6   1  0  0  0  0  1  0  1 -21.984375      27     0.0\n",
      "7   1  0  1  1  0  1  1  0 -21.953125      26     0.0\n",
      "8   0  1  1  1  0  1  1  0 -21.953125      39     0.0\n",
      "9   1  1  0  0  0  1  0  1 -21.921875      57     0.0\n",
      "10  1  0  0  0  0  1  1  1 -21.859375      20     0.0\n",
      "11  1  0  1  1  0  1  0  0 -21.859375      30     0.0\n",
      "12  1  0  1  0  0  1  0  0   -21.8125      30     0.0\n",
      "13  1  0  0  1  0  1  1  1 -21.796875      37     0.0\n",
      "14  0  1  1  1  0  1  1  1 -21.765625      25     0.0\n",
      "15  1  1  0  0  0  1  0  0     -21.75      41     0.0\n",
      "16  1  0  0  1  0  1  0  0 -21.609375      19     0.0\n",
      "17  0  1  1  1  0  1  0  1 -21.609375      32     0.0\n",
      "18  1  0  1  0  0  1  1  1 -21.578125      11     0.0\n",
      "19  0  1  1  0  0  1  1  0   -21.5625      10     0.0\n",
      "20  1  1  0  0  0  1  1  0   -21.5625      19     0.0\n",
      "21  0  1  1  0  0  1  1  1 -21.515625      10     0.0\n",
      "22  1  1  0  1  0  1  0  1 -21.515625      27     0.0\n",
      "23  1  1  0  1  0  1  0  0 -21.484375      30     0.0\n",
      "24  1  0  0  0  0  1  0  0     -21.25       4     0.0\n",
      "25  1  0  1  1  0  1  1  1 -21.203125       5     0.0\n",
      "67  1  0  1  1  0  1  1  1 -21.203125       1   0.125\n",
      "26  0  1  0  1  0  1  1  1 -21.109375       8     0.0\n",
      "27  0  1  1  0  0  1  0  1 -21.078125      10     0.0\n",
      "28  1  1  1  0  0  1  0  0   -21.0625      15     0.0\n",
      "29  1  1  0  0  0  0  1  1 -21.046875       1     0.0\n",
      "30  0  1  1  1  1  0  0  0 -21.046875      13     0.0\n",
      "31  1  1  0  1  0  1  1  0 -21.015625      24     0.0\n",
      "32  1  0  1  1  0  0  1  1 -21.015625       2     0.0\n",
      "33  0  1  0  1  0  1  1  0 -21.015625      14     0.0\n",
      "34  1  0  0  0  1  0  0  0      -21.0       2     0.0\n",
      "35  1  1  1  0  0  1  0  1 -20.953125       6     0.0\n",
      "36  0  1  1  0  1  0  0  0   -20.9375      14     0.0\n",
      "37  1  1  0  1  0  0  1  1 -20.921875       3     0.0\n",
      "38  1  0  0  1  1  0  0  0 -20.796875       9     0.0\n",
      "39  0  1  1  1  0  1  0  0 -20.734375      11     0.0\n",
      "40  1  1  0  0  0  1  1  1 -20.671875       4     0.0\n",
      "41  0  1  0  1  1  0  0  0 -20.671875       9     0.0\n",
      "42  1  1  1  0  0  0  1  1 -20.640625       1     0.0\n",
      "43  0  1  0  0  0  1  1  1 -20.546875       2     0.0\n",
      "44  1  0  0  1  0  0  1  1 -20.484375       1     0.0\n",
      "45  1  1  1  1  0  1  0  0 -20.484375       2     0.0\n",
      "46  1  0  1  0  1  0  0  0   -20.4375       2     0.0\n",
      "47  0  1  0  1  0  1  0  1 -20.390625       7     0.0\n",
      "48  1  1  1  0  0  1  1  0   -20.3125       4     0.0\n",
      "49  0  1  0  0  1  0  0  0     -20.25       5     0.0\n",
      "50  1  1  1  1  0  1  0  1 -20.234375       5     0.0\n",
      "51  0  1  1  0  0  1  0  0   -20.0625       4     0.0\n",
      "52  1  1  0  1  0  1  1  1 -19.984375       1     0.0\n",
      "53  1  0  0  0  0  0  1  1 -19.984375       1     0.0\n",
      "54  1  0  1  1  1  0  0  0 -19.921875       1     0.0\n",
      "55  0  0  1  1  0  1  1  1 -19.828125       1     0.0\n",
      "56  0  1  1  1  1  0  0  1 -19.796875       3     0.0\n",
      "58  0  1  0  1  1  0  0  1 -19.703125       2     0.0\n",
      "59  0  0  1  1  1  0  0  0 -19.671875       1     0.0\n",
      "60  1  0  0  0  1  0  0  1 -19.609375       4     0.0\n",
      "61  0  1  0  0  0  1  0  1 -19.546875       1     0.0\n",
      "63  0  1  0  0  0  1  0  1 -19.546875       2   0.125\n",
      "64  1  0  0  1  1  0  0  1 -19.265625       2     0.0\n",
      "65  1  1  0  0  1  0  0  0     -19.25       2     0.0\n",
      "66  0  1  0  1  0  1  0  0 -19.234375       2     0.0\n",
      "68  0  1  0  0  0  1  0  0     -18.25       1     0.0\n",
      "69  1  1  0  1  0  0  0  1 -18.203125       1     0.0\n",
      "70  0  1  1  0  1  0  1  0   -18.1875       1     0.0\n",
      "71  1  1  1  1  0  1  1  1 -18.140625       1     0.0\n",
      "72  0  1  1  1  1  0  1  0 -18.015625       1     0.0\n",
      "62  1  0  1  0  1  0  1  0   -16.5625       1   0.125\n",
      "57  1  0  1  1  1  0  1  0 -15.765625       1   0.125\n",
      "['BINARY', 73 rows, 1000 samples, 8 variables]\n"
     ]
    }
   ],
   "source": [
    "from dwave.system import DWaveSampler, EmbeddingComposite\n",
    "sampler_auto = EmbeddingComposite(DWaveSampler(solver={'qpu': True}))\n",
    "\n",
    "linear = {('q1','q1'):26.0, ('q2','q2'):72.0, ('q3','q3'):-6.0, ('q4','q4'):8.0, ('q5','q5'):-13.0, ('q6','q6'):-16.0, ('q7','q7'):23.0, ('q8','q8'):56.0}\n",
    "\n",
    "quadratic = {('q1','q2'):40.0, ('q1','q5'):2.0, ('q1','q6'):4.0, ('q1','q7'):-2.0, ('q1','q8'):-4.0, ('q2','q5'):4.0, ('q2','q6'):8.0, ('q2','q7'):-4.0, ('q2','q8'):-8.0, ('q3','q4'):40.0, ('q3','q5'):-2.0, ('q3','q6'):-4.0, ('q3','q7'):2.0, ('q3','q8'):4.0, ('q4','q5'):-4.0, ('q4','q6'):-8.0, ('q4','q7'):4.0, ('q4','q8'):8.0, ('q5','q6'):20.0, ('q7','q8'):20.0}\n",
    "\n",
    "Q = dict(linear)\n",
    "Q.update(quadratic)\n",
    "\n",
    "# print(Q)\n",
    "\n",
    "sampleset = sampler_auto.sample_qubo(Q2, num_reads=1000)\n",
    "print(sampleset)"
   ]
  },
  {
   "cell_type": "markdown",
   "metadata": {},
   "source": [
    "### Convert Qbit to Decimal "
   ]
  },
  {
   "cell_type": "code",
   "execution_count": 18,
   "metadata": {},
   "outputs": [
    {
     "name": "stdout",
     "output_type": "stream",
     "text": [
      "4\n",
      "[array([1, 0, 0, 1], dtype=int8), array([0, 1, 0, 1], dtype=int8)]\n",
      "Output:  [0.25, -0.75]\n",
      "input A:  [[1.  2. ]\n",
      " [0.5 0.5]]  b:  [1 0]\n"
     ]
    }
   ],
   "source": [
    "samples = sampleset.samples()\n",
    "type(samples[0])\n",
    "qbit_per_var_count = int(len(qbit_list)/Dimension)\n",
    "print(qbit_per_var_count)\n",
    "\n",
    "qbit_per_var = []\n",
    "for i in range(Dimension):\n",
    "    qbit_per_var.append(samples[i,qbit_list[qbit_per_var_count*i:qbit_per_var_count*(i+1)]])\n",
    "\n",
    "print(qbit_per_var)\n",
    "res = []\n",
    "\n",
    "for i in range(N):\n",
    "    res.append(0)\n",
    "    for j in range(qubits):\n",
    "        res[i] += (pow(2,-j)*qbit_per_var[i][j])\n",
    "    res[i] = 2*(res[i]-1)\n",
    "\n",
    "print(\"Output: \", res)\n",
    "print(\"input A: \", M,\" b: \", Y)\n",
    "    \n"
   ]
  },
  {
   "cell_type": "code",
   "execution_count": 41,
   "metadata": {},
   "outputs": [
    {
     "name": "stdout",
     "output_type": "stream",
     "text": [
      "({'q1': -1.0, 'q2': -1.125, 'q3': -0.71875, 'q4': -0.3984375, 'q5': 1.0, 'q6': -0.125, 'q7': -0.21875, 'q8': -0.1484375}, {('q1', 'q2'): 1.25, ('q1', 'q3'): 0.625, ('q1', 'q4'): 0.3125, ('q1', 'q5'): 1.5, ('q1', 'q6'): 0.75, ('q1', 'q7'): 0.375, ('q1', 'q8'): 0.1875, ('q2', 'q3'): 0.3125, ('q2', 'q4'): 0.15625, ('q2', 'q5'): 0.75, ('q2', 'q6'): 0.375, ('q2', 'q7'): 0.1875, ('q2', 'q8'): 0.09375, ('q3', 'q4'): 0.078125, ('q3', 'q5'): 0.375, ('q3', 'q6'): 0.1875, ('q3', 'q7'): 0.09375, ('q3', 'q8'): 0.046875, ('q4', 'q5'): 0.1875, ('q4', 'q6'): 0.09375, ('q4', 'q7'): 0.046875, ('q4', 'q8'): 0.0234375, ('q5', 'q6'): 1.25, ('q5', 'q7'): 0.625, ('q5', 'q8'): 0.3125, ('q6', 'q7'): 0.3125, ('q6', 'q8'): 0.15625, ('q7', 'q8'): 0.078125}, -13.4765625)\n"
     ]
    }
   ],
   "source": [
    "import dimod\n",
    "\n",
    "#print(Q)\n",
    "J = dimod.qubo_to_ising(Q2)\n",
    "print(J)"
   ]
  },
  {
   "cell_type": "code",
   "execution_count": 42,
   "metadata": {},
   "outputs": [
    {
     "name": "stdout",
     "output_type": "stream",
     "text": [
      "   q1 q2 q3 q4 q5 q6 q7 q8    energy num_oc. chain_.\n",
      "0  -1 +1 +1 +1 -1 +1 +1 +1 -5.992188     338     0.0\n",
      "1  -1 +1 +1 +1 -1 +1 +1 -1 -5.492188      57     0.0\n",
      "2  -1 +1 +1 +1 -1 +1 -1 +1 -4.992188      32     0.0\n",
      "3  -1 +1 +1 -1 -1 +1 +1 +1 -4.992188      28     0.0\n",
      "4  +1 -1 +1 +1 -1 +1 +1 +1 -4.992188      83     0.0\n",
      "5  +1 +1 +1 +1 -1 -1 +1 +1 -4.992188      41     0.0\n",
      "6  +1 -1 +1 +1 -1 +1 +1 -1 -4.867188      55     0.0\n",
      "7  +1 +1 +1 -1 -1 -1 +1 +1 -4.867188      34     0.0\n",
      "8  +1 +1 -1 +1 -1 -1 +1 +1 -4.742188      13     0.0\n",
      "9  +1 -1 +1 +1 -1 +1 -1 +1 -4.742188      27     0.0\n",
      "10 +1 +1 -1 +1 -1 +1 -1 +1 -4.617188      16     0.0\n",
      "11 +1 -1 +1 -1 -1 +1 +1 +1 -4.617188      32     0.0\n",
      "12 +1 +1 +1 +1 -1 -1 +1 -1 -4.617188      17     0.0\n",
      "13 +1 +1 +1 -1 -1 +1 -1 +1 -4.554688      15     0.0\n",
      "14 +1 +1 -1 +1 -1 +1 +1 -1 -4.554688      16     0.0\n",
      "15 +1 -1 +1 +1 -1 -1 +1 +1 -4.492188      15     0.0\n",
      "16 +1 +1 -1 +1 -1 +1 +1 +1 -4.492188      10     0.0\n",
      "17 +1 +1 +1 +1 -1 +1 -1 +1 -4.492188      11     0.0\n",
      "18 +1 +1 +1 +1 -1 +1 -1 -1 -4.429688      10     0.0\n",
      "19 +1 +1 -1 -1 -1 +1 +1 +1 -4.429688      15     0.0\n",
      "20 -1 +1 +1 -1 -1 +1 +1 -1 -4.398438       3     0.0\n",
      "21 +1 -1 +1 -1 -1 +1 +1 -1 -4.398438      17     0.0\n",
      "22 +1 +1 -1 -1 -1 +1 +1 -1 -4.398438       8     0.0\n",
      "23 +1 +1 +1 -1 -1 +1 -1 -1 -4.398438       3     0.0\n",
      "24 +1 +1 +1 -1 -1 +1 +1 -1 -4.398438       9     0.0\n",
      "25 +1 +1 +1 -1 -1 -1 +1 -1 -4.398438       6     0.0\n",
      "26 +1 +1 -1 +1 -1 +1 -1 -1 -4.367188       5     0.0\n",
      "27 +1 +1 -1 -1 -1 +1 -1 +1 -4.367188       9     0.0\n",
      "28 +1 -1 +1 +1 -1 +1 -1 -1 -4.304688       5     0.0\n",
      "29 +1 +1 -1 -1 -1 -1 +1 +1 -4.304688       3     0.0\n",
      "30 +1 +1 +1 -1 -1 +1 +1 +1 -4.242188       7     0.0\n",
      "31 +1 +1 +1 +1 -1 +1 +1 -1 -4.242188       8     0.0\n",
      "32 +1 +1 +1 +1 -1 -1 -1 +1 -4.242188       4     0.0\n",
      "33 +1 -1 -1 +1 -1 +1 +1 +1 -4.242188       8     0.0\n",
      "34 +1 -1 +1 -1 -1 +1 -1 +1 -4.179688       8     0.0\n",
      "35 -1 +1 +1 +1 -1 +1 -1 -1 -4.179688       2     0.0\n",
      "36 +1 +1 -1 +1 -1 -1 +1 -1 -4.179688       2     0.0\n",
      "37 +1 +1 -1 -1 -1 +1 -1 -1 -4.023438       5     0.0\n",
      "38 -1 +1 -1 +1 -1 +1 +1 +1 -3.992188       1     0.0\n",
      "39 +1 +1 +1 +1 -1 +1 +1 +1 -3.992188       1     0.0\n",
      "40 +1 +1 +1 -1 -1 -1 -1 +1 -3.929688       1     0.0\n",
      "41 +1 -1 -1 +1 -1 +1 +1 -1 -3.929688       2     0.0\n",
      "42 -1 +1 +1 -1 -1 +1 -1 +1 -3.804688       2     0.0\n",
      "43 +1 -1 +1 +1 -1 -1 +1 -1 -3.742188       1     0.0\n",
      "44 +1 -1 +1 -1 -1 -1 +1 +1 -3.742188       1     0.0\n",
      "45 +1 -1 +1 -1 -1 +1 -1 -1 -3.648438       1     0.0\n",
      "46 +1 +1 -1 -1 -1 -1 +1 -1 -3.648438       1     0.0\n",
      "47 +1 -1 -1 +1 -1 +1 -1 +1 -3.617188       3     0.0\n",
      "48 -1 +1 -1 +1 -1 +1 +1 -1 -3.304688       1     0.0\n",
      "49 -1 +1 +1 +1 +1 -1 -1 +1 -3.242188       3     0.0\n",
      "50 -1 +1 +1 +1 +1 -1 -1 -1 -3.054688       1     0.0\n",
      "51 -1 +1 +1 -1 +1 -1 +1 -1 -2.398438       1     0.0\n",
      "53 +1 -1 +1 +1 +1 -1 -1 +1 -1.492188       1     0.0\n",
      "52 -1 +1 +1 +1 +1 +1 +1 -1 -0.742188       1   0.125\n",
      "54 +1 +1 -1 +1 +1 -1 +1 -1  0.070312       1     0.0\n",
      "['SPIN', 55 rows, 1000 samples, 8 variables]\n"
     ]
    }
   ],
   "source": [
    "sampleset = sampler_auto.sample_ising(J[0], J[1], num_reads=1000)\n",
    "print(sampleset)"
   ]
  },
  {
   "cell_type": "code",
   "execution_count": null,
   "metadata": {},
   "outputs": [],
   "source": []
  }
 ],
 "metadata": {
  "interpreter": {
   "hash": "4cd7ab41f5fca4b9b44701077e38c5ffd31fe66a6cab21e0214b68d958d0e462"
  },
  "kernelspec": {
   "display_name": "Python 3 (ipykernel)",
   "language": "python",
   "name": "python3"
  },
  "language_info": {
   "codemirror_mode": {
    "name": "ipython",
    "version": 3
   },
   "file_extension": ".py",
   "mimetype": "text/x-python",
   "name": "python",
   "nbconvert_exporter": "python",
   "pygments_lexer": "ipython3",
   "version": "3.9.16"
  },
  "toc": {
   "base_numbering": 1,
   "nav_menu": {},
   "number_sections": true,
   "sideBar": true,
   "skip_h1_title": false,
   "title_cell": "Table of Contents",
   "title_sidebar": "Contents",
   "toc_cell": false,
   "toc_position": {},
   "toc_section_display": true,
   "toc_window_display": false
  }
 },
 "nbformat": 4,
 "nbformat_minor": 4
}
