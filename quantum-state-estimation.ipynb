{
 "cells": [
  {
   "cell_type": "markdown",
   "metadata": {},
   "source": [
    "## MATRIX INVERSION AS A QUBO PROBLEM\n",
    "\n",
    "Ref  \n",
    "[1.Floating-Point Calculations on a Quantum Annealer:\n",
    "Division and Matrix Inversion](https://arxiv.org/pdf/1901.06526.pdf)\n",
    "\n",
    "In this section we present an algorithm for solving a system of linear equations on a\n",
    "quantum annealer. To precisely define the mathematical problem, let $M$ be a nonsingular $N × N$ real matrix, and let $Y$ be a real $N$ dimensional vector; we then wish to solve the linear equation\n",
    "$$ M · x = Y$$\n",
    "The linearity of the system means that there is a unique solution,\n",
    "$$x = M^{−1} · Y$$\n",
    "\n",
    "Constructing a quadratic matrix \n",
    "$$H(x) = (M x − Y)^2 = (M x − Y)^T · (M x − Y)$$\n",
    "$$H(x) = x^T M^T Mx - x^T M^T Y - Y^T M x +Y^T Y$$\n",
    "$$H(x) = \\sum_{ijk=1}^{N} M_{ki} M_{kj} x^i x^j - 2\\sum_{ij=1}^N Y_j M_{ji} x^i + ||Y^2||$$\n",
    "To obtain a floating point representation of each component\n",
    "of $x = (x_1, · · · , x_N)^T$ by expanding in powers of 2 multiplied by Boolean-valued variables\n",
    "$$\\chi^i = \\sum_{r=0}^{R-1} 2^{-r}q_r^i $$\n",
    "$$x^i = 2\\chi^i-1$$\n",
    "\n",
    "And to obtain integer representation, the real value $x_i$\n",
    "\n",
    "$$ x_i = \\sum_{l=-m}^m 2^l q_{i,l}^+ - \\sum_{l=-m}^m 2^l q_{i,l}^- $$\n",
    "\n",
    "To present both position and negetive numbers $q_{i,l}^+$ and $q_{i,l}^-$ are involved.\n",
    "\n",
    "As before, the domains are given by $\\chi^i\\in [0, 2)$ and $x^i \\in [−1, 3)$, and upon expressing $x$ as a function the $q_r^i$ we can recast $H(x)$ in the form  \n",
    "$$H(q) = \\sum_{i=1}^{N}\\sum_{r=0}^{R-1} a_r^i q_r^j + \\sum_{i=1}^N \\sum_{i\\neq j=1}^N \\sum_{r=0}^{R-1} \\sum_{s=0}^{R-1} b_{rs}^{ij} q_{r}^i q_s^i$$"
   ]
  },
  {
   "cell_type": "code",
   "execution_count": 32,
   "metadata": {
    "_cell_guid": "b1076dfc-b9ad-4769-8c92-a6c4dae69d19",
    "_uuid": "8f2839f25d086af736a60e9eeb907d3b93b6e0e5",
    "scrolled": true
   },
   "outputs": [
    {
     "output_type": "stream",
     "name": "stdout",
     "text": [
      "after calculating linear terms: \n[[ 26.   0.   0.   0.   0.   0.   0.   0.   0.   0.   0.   0.   0.   0.\n    0.   0.]\n [  0.  72.   0.   0.   0.   0.   0.   0.   0.   0.   0.   0.   0.   0.\n    0.   0.]\n [  0.   0. 224.   0.   0.   0.   0.   0.   0.   0.   0.   0.   0.   0.\n    0.   0.]\n [  0.   0.   0. 768.   0.   0.   0.   0.   0.   0.   0.   0.   0.   0.\n    0.   0.]\n [  0.   0.   0.   0.  -6.   0.   0.   0.   0.   0.   0.   0.   0.   0.\n    0.   0.]\n [  0.   0.   0.   0.   0.   8.   0.   0.   0.   0.   0.   0.   0.   0.\n    0.   0.]\n [  0.   0.   0.   0.   0.   0.  96.   0.   0.   0.   0.   0.   0.   0.\n    0.   0.]\n [  0.   0.   0.   0.   0.   0.   0. 512.   0.   0.   0.   0.   0.   0.\n    0.   0.]\n [  0.   0.   0.   0.   0.   0.   0.   0. -13.   0.   0.   0.   0.   0.\n    0.   0.]\n [  0.   0.   0.   0.   0.   0.   0.   0.   0. -16.   0.   0.   0.   0.\n    0.   0.]\n [  0.   0.   0.   0.   0.   0.   0.   0.   0.   0.   8.   0.   0.   0.\n    0.   0.]\n [  0.   0.   0.   0.   0.   0.   0.   0.   0.   0.   0. 176.   0.   0.\n    0.   0.]\n [  0.   0.   0.   0.   0.   0.   0.   0.   0.   0.   0.   0.  23.   0.\n    0.   0.]\n [  0.   0.   0.   0.   0.   0.   0.   0.   0.   0.   0.   0.   0.  56.\n    0.   0.]\n [  0.   0.   0.   0.   0.   0.   0.   0.   0.   0.   0.   0.   0.   0.\n  152.   0.]\n [  0.   0.   0.   0.   0.   0.   0.   0.   0.   0.   0.   0.   0.   0.\n    0. 464.]]\n# Matrix Q is\n[[  26.   40.   80.  160.    0.    0.    0.    0.    2.    4.    8.   16.\n    -2.   -4.   -8.  -16.]\n [   0.   72.  160.  320.    0.    0.    0.    0.    4.    8.   16.   32.\n    -4.   -8.  -16.  -32.]\n [   0.    0.  224.  640.    0.    0.    0.    0.    8.   16.   32.   64.\n    -8.  -16.  -32.  -64.]\n [   0.    0.    0.  768.    0.    0.    0.    0.   16.   32.   64.  128.\n   -16.  -32.  -64. -128.]\n [   0.    0.    0.    0.   -6.   40.   80.  160.   -2.   -4.   -8.  -16.\n     2.    4.    8.   16.]\n [   0.    0.    0.    0.    0.    8.  160.  320.   -4.   -8.  -16.  -32.\n     4.    8.   16.   32.]\n [   0.    0.    0.    0.    0.    0.   96.  640.   -8.  -16.  -32.  -64.\n     8.   16.   32.   64.]\n [   0.    0.    0.    0.    0.    0.    0.  512.  -16.  -32.  -64. -128.\n    16.   32.   64.  128.]\n [   0.    0.    0.    0.    0.    0.    0.    0.  -13.   20.   40.   80.\n     0.    0.    0.    0.]\n [   0.    0.    0.    0.    0.    0.    0.    0.    0.  -16.   80.  160.\n     0.    0.    0.    0.]\n [   0.    0.    0.    0.    0.    0.    0.    0.    0.    0.    8.  320.\n     0.    0.    0.    0.]\n [   0.    0.    0.    0.    0.    0.    0.    0.    0.    0.    0.  176.\n     0.    0.    0.    0.]\n [   0.    0.    0.    0.    0.    0.    0.    0.    0.    0.    0.    0.\n    23.   20.   40.   80.]\n [   0.    0.    0.    0.    0.    0.    0.    0.    0.    0.    0.    0.\n     0.   56.   80.  160.]\n [   0.    0.    0.    0.    0.    0.    0.    0.    0.    0.    0.    0.\n     0.    0.  152.  320.]\n [   0.    0.    0.    0.    0.    0.    0.    0.    0.    0.    0.    0.\n     0.    0.    0.  464.]]\n"
     ]
    }
   ],
   "source": [
    "# This Python 3 environment comes with many helpful analytics libraries installed\n",
    "# It is defined by the kaggle/python Docker image: https://github.com/kaggle/docker-python\n",
    "# For example, here's several helpful packages to load\n",
    "\n",
    "import numpy as np\n",
    "import random, math\n",
    "import copy\n",
    "\n",
    "Dimension = 2\n",
    "qubits = 4\n",
    "A = np.array([[3, 1], [-1, 2]])\n",
    "b = np.array([-1, 5])\n",
    "\n",
    "QM = np.zeros((2*qubits*Dimension, 2*qubits*Dimension))\n",
    "# print(\"QM\" + str(QM));\n",
    "for k in range(Dimension): \n",
    "    for i in range(Dimension):\n",
    "        for l in range(qubits):\n",
    "            cef1 = pow(2,2*l)*pow(A[k][i],2)\n",
    "            cef2 = pow(2,l+1)*A[k][i]*b[k]\n",
    "            po1 = (qubits*2)*i + l\n",
    "            po2 = (qubits*2)*i + l + qubits\n",
    "            QM[po1][po1] = QM[po1][po1] + cef1 - cef2\n",
    "            QM[po2][po2] = QM[po2][po2] + cef1 + cef2\n",
    "\n",
    "print(\"after calculating linear terms: \")\n",
    "print(QM)\n",
    "\n",
    "for k in range(Dimension):\n",
    "    for i in range(Dimension):\n",
    "        for l1 in range(qubits-1):\n",
    "            for l2 in range(l1+1,qubits):\n",
    "                qcef = pow(2, l1+l2+1)*pow(A[k][i],2)\n",
    "                po1 = (qubits*2)*i + l1\n",
    "                po2 = (qubits*2)*i + l2\n",
    "                QM[po1][po2] = QM[po1][po2] + qcef\n",
    "                po3 = (qubits*2)*i + l1 + qubits\n",
    "                po4 = (qubits*2)*i + l2 + qubits\n",
    "                QM[po3][po4] = QM[po3][po4] + qcef\n",
    "\n",
    "# print(\"after calculating quadratic terms: \")\n",
    "# print(QM)\n",
    "\n",
    "for k in range(Dimension):\n",
    "    for i in range(Dimension-1):\n",
    "            for j in range(i+1,Dimension):\n",
    "                for l1 in range(qubits):\n",
    "                    for l2 in range(qubits):\n",
    "                        qcef = pow(2, l1+l2+1)*A[k][i]*A[k][j]\n",
    "                        po1 = (qubits*2)*i + l1\n",
    "                        po2 = (qubits*2)*j + l2\n",
    "                        QM[po1][po2] = QM[po1][po2] + qcef\n",
    "                        po3 = (qubits*2)*i + l1 + qubits\n",
    "                        po4 = (qubits*2)*j + l2 + qubits\n",
    "                        QM[po3][po4] = QM[po3][po4] + qcef\n",
    "                        po5 = (qubits*2)*i + l1\n",
    "                        po6 = (qubits*2)*j + l2 + qubits\n",
    "                        QM[po5][po6] = QM[po5][po6] - qcef\n",
    "                        po7 = (qubits*2)*i + l1 + qubits\n",
    "                        po8 = (qubits*2)*j + l2\n",
    "                        QM[po7][po8] = QM[po7][po8] - qcef\n",
    "\n",
    "# Print Matrix Q\n",
    "print(\"# Matrix Q is\")\n",
    "print(QM)"
   ]
  },
  {
   "cell_type": "markdown",
   "metadata": {},
   "source": [
    "## Apply QUBO"
   ]
  },
  {
   "cell_type": "code",
   "execution_count": 33,
   "metadata": {},
   "outputs": [
    {
     "output_type": "stream",
     "name": "stdout",
     "text": [
      "['q1', 'q2', 'q3', 'q4', 'q5', 'q6', 'q7', 'q8', 'q9', 'q10', 'q11', 'q12', 'q13', 'q14', 'q15', 'q16']\n{('q1', 'q1'): 26.0, ('q1', 'q2'): 40.0, ('q1', 'q3'): 80.0, ('q1', 'q4'): 160.0, ('q1', 'q9'): 2.0, ('q1', 'q10'): 4.0, ('q1', 'q11'): 8.0, ('q1', 'q12'): 16.0, ('q1', 'q13'): -2.0, ('q1', 'q14'): -4.0, ('q1', 'q15'): -8.0, ('q1', 'q16'): -16.0, ('q2', 'q2'): 72.0, ('q2', 'q3'): 160.0, ('q2', 'q4'): 320.0, ('q2', 'q9'): 4.0, ('q2', 'q10'): 8.0, ('q2', 'q11'): 16.0, ('q2', 'q12'): 32.0, ('q2', 'q13'): -4.0, ('q2', 'q14'): -8.0, ('q2', 'q15'): -16.0, ('q2', 'q16'): -32.0, ('q3', 'q3'): 224.0, ('q3', 'q4'): 640.0, ('q3', 'q9'): 8.0, ('q3', 'q10'): 16.0, ('q3', 'q11'): 32.0, ('q3', 'q12'): 64.0, ('q3', 'q13'): -8.0, ('q3', 'q14'): -16.0, ('q3', 'q15'): -32.0, ('q3', 'q16'): -64.0, ('q4', 'q4'): 768.0, ('q4', 'q9'): 16.0, ('q4', 'q10'): 32.0, ('q4', 'q11'): 64.0, ('q4', 'q12'): 128.0, ('q4', 'q13'): -16.0, ('q4', 'q14'): -32.0, ('q4', 'q15'): -64.0, ('q4', 'q16'): -128.0, ('q5', 'q5'): -6.0, ('q5', 'q6'): 40.0, ('q5', 'q7'): 80.0, ('q5', 'q8'): 160.0, ('q5', 'q9'): -2.0, ('q5', 'q10'): -4.0, ('q5', 'q11'): -8.0, ('q5', 'q12'): -16.0, ('q5', 'q13'): 2.0, ('q5', 'q14'): 4.0, ('q5', 'q15'): 8.0, ('q5', 'q16'): 16.0, ('q6', 'q6'): 8.0, ('q6', 'q7'): 160.0, ('q6', 'q8'): 320.0, ('q6', 'q9'): -4.0, ('q6', 'q10'): -8.0, ('q6', 'q11'): -16.0, ('q6', 'q12'): -32.0, ('q6', 'q13'): 4.0, ('q6', 'q14'): 8.0, ('q6', 'q15'): 16.0, ('q6', 'q16'): 32.0, ('q7', 'q7'): 96.0, ('q7', 'q8'): 640.0, ('q7', 'q9'): -8.0, ('q7', 'q10'): -16.0, ('q7', 'q11'): -32.0, ('q7', 'q12'): -64.0, ('q7', 'q13'): 8.0, ('q7', 'q14'): 16.0, ('q7', 'q15'): 32.0, ('q7', 'q16'): 64.0, ('q8', 'q8'): 512.0, ('q8', 'q9'): -16.0, ('q8', 'q10'): -32.0, ('q8', 'q11'): -64.0, ('q8', 'q12'): -128.0, ('q8', 'q13'): 16.0, ('q8', 'q14'): 32.0, ('q8', 'q15'): 64.0, ('q8', 'q16'): 128.0, ('q9', 'q9'): -13.0, ('q9', 'q10'): 20.0, ('q9', 'q11'): 40.0, ('q9', 'q12'): 80.0, ('q10', 'q10'): -16.0, ('q10', 'q11'): 80.0, ('q10', 'q12'): 160.0, ('q11', 'q11'): 8.0, ('q11', 'q12'): 320.0, ('q12', 'q12'): 176.0, ('q13', 'q13'): 23.0, ('q13', 'q14'): 20.0, ('q13', 'q15'): 40.0, ('q13', 'q16'): 80.0, ('q14', 'q14'): 56.0, ('q14', 'q15'): 80.0, ('q14', 'q16'): 160.0, ('q15', 'q15'): 152.0, ('q15', 'q16'): 320.0, ('q16', 'q16'): 464.0}\n"
     ]
    }
   ],
   "source": [
    "qbit_list = []\n",
    "for val in range(len(QM)):\n",
    "    qbit_list.append('q'+str(val+1)) \n",
    "print(qbit_list)\n",
    "Q2 = {}\n",
    "for i in range(len(QM)):\n",
    "    for j in range(len(QM)):\n",
    "        if QM[i][j] != 0:\n",
    "            Q2[(qbit_list[i],qbit_list[j])] = QM[i][j]\n",
    "            \n",
    "print(Q2)\n",
    "            "
   ]
  },
  {
   "cell_type": "code",
   "execution_count": 30,
   "metadata": {},
   "outputs": [
    {
     "output_type": "stream",
     "name": "stdout",
     "text": [
      "   q1 q10 q11 q12 q2 q3 q4 q5 q6 q7 q8 q9 energy num_oc. chain_b.\n0   0   0   0   0  0  0  1  0  0  0  1  0  -26.0     445      0.0\n38  0   0   0   0  0  0  1  0  0  0  1  0  -26.0       1 0.083333\n1   0   0   0   0  0  0  1  0  0  1  0  0  -21.0      88      0.0\n2   0   0   0   0  0  0  1  0  0  1  1  0  -21.0     127      0.0\n3   0   0   0   0  0  0  0  1  0  0  1  0  -16.0      71      0.0\n4   0   0   0   0  0  0  0  0  0  0  1  0  -16.0      60      0.0\n24  0   0   0   0  0  0  0  0  0  0  1  0  -16.0       2 0.083333\n5   0   0   0   0  0  0  0  0  0  1  0  0  -13.0       8      0.0\n6   0   0   0   0  0  0  0  1  0  1  1  0  -13.0      26      0.0\n7   0   0   0   0  0  0  0  1  0  1  0  0   -9.0      10      0.0\n8   0   0   0   0  0  0  0  0  0  1  1  0   -9.0      15      0.0\n9   0   0   0   0  0  0  1  0  0  0  0  0   -6.0      10      0.0\n10  0   0   0   0  0  0  1  0  0  0  0  1   -6.0      18      0.0\n11  0   1   0   0  0  0  1  0  0  0  1  0   -1.0      19      0.0\n12  0   0   0   0  0  0  0  0  0  0  0  0    0.0       3      0.0\n13  0   0   0   0  0  0  0  1  0  0  0  1    0.0       3      0.0\n14  0   1   0   0  0  0  1  0  0  1  0  0    4.0       9      0.0\n15  0   1   0   0  0  0  1  0  0  1  1  0    4.0      13      0.0\n16  1   0   0   0  0  0  1  0  0  0  1  0    4.0      21      0.0\n17  1   0   0   0  0  0  1  0  0  1  0  0    7.0       2      0.0\n18  0   1   0   0  0  0  0  0  0  0  1  0    7.0       7      0.0\n19  0   0   0   0  0  0  0  0  0  0  0  1    8.0       1      0.0\n20  0   0   0   0  0  0  0  1  0  0  0  0    8.0       1      0.0\n21  0   1   0   0  0  0  0  0  0  1  0  0   10.0       1      0.0\n22  0   1   0   0  0  0  0  1  0  0  1  0   11.0       1      0.0\n23  1   0   0   0  0  0  1  0  0  1  1  0   11.0       7      0.0\n25  1   0   0   0  0  0  0  1  0  0  1  0   14.0       3      0.0\n26  0   1   0   0  0  0  0  0  0  1  1  0   14.0       1      0.0\n27  1   0   0   0  0  0  0  0  0  0  1  0   14.0       3      0.0\n28  0   0   0   0  0  0  1  1  0  0  1  0   14.0       3      0.0\n29  0   0   0   0  0  0  1  1  0  1  1  0   15.0       2      0.0\n30  0   1   0   0  0  0  0  1  0  1  0  0   18.0       1      0.0\n31  0   1   0   0  0  0  1  0  0  0  0  0   19.0       1      0.0\n32  0   1   0   0  0  0  1  0  0  0  0  1   19.0       1      0.0\n33  0   0   0   0  0  0  1  0  0  1  0  1   19.0       2      0.0\n34  0   0   0   0  0  0  0  1  0  1  0  1   23.0       1      0.0\n35  0   0   0   0  0  0  1  1  0  0  0  1   26.0       1      0.0\n36  1   1   0   0  0  0  1  0  0  0  1  0   27.0       1      0.0\n37  1   1   0   0  0  0  1  0  0  1  0  0   30.0       1      0.0\n39  0   0   1   0  0  0  1  0  0  0  1  0   34.0       1      0.0\n40  1   1   0   0  0  0  0  1  0  0  1  0   39.0       1      0.0\n41  0   0   1   0  0  0  1  0  0  1  1  0   39.0       1      0.0\n42  0   0   1   0  0  0  0  0  0  0  1  0   40.0       2      0.0\n43  0   0   0   0  0  0  1  1  0  0  0  0   42.0       1      0.0\n44  1   0   1   0  0  0  1  0  0  0  1  0   60.0       1      0.0\n45  0   0   0   0  1  0  0  1  0  0  1  0   64.0       1      0.0\n46  1   0   1   0  0  0  0  1  0  0  1  0   74.0       1      0.0\n47  0   0   0   0  0  0  1  0  0  1  1  1   99.0       1      0.0\n['BINARY', 48 rows, 1000 samples, 12 variables]\n"
     ]
    }
   ],
   "source": [
    "from dwave.system import DWaveSampler, EmbeddingComposite\n",
    "sampler_auto = EmbeddingComposite(DWaveSampler(solver={'qpu': True}))\n",
    "\n",
    "linear = {('q1','q1'):26.0, ('q2','q2'):72.0, ('q3','q3'):-6.0, ('q4','q4'):8.0, ('q5','q5'):-13.0, ('q6','q6'):-16.0, ('q7','q7'):23.0, ('q8','q8'):56.0}\n",
    "\n",
    "quadratic = {('q1','q2'):40.0, ('q1','q5'):2.0, ('q1','q6'):4.0, ('q1','q7'):-2.0, ('q1','q8'):-4.0, ('q2','q5'):4.0, ('q2','q6'):8.0, ('q2','q7'):-4.0, ('q2','q8'):-8.0, ('q3','q4'):40.0, ('q3','q5'):-2.0, ('q3','q6'):-4.0, ('q3','q7'):2.0, ('q3','q8'):4.0, ('q4','q5'):-4.0, ('q4','q6'):-8.0, ('q4','q7'):4.0, ('q4','q8'):8.0, ('q5','q6'):20.0, ('q7','q8'):20.0}\n",
    "\n",
    "Q = dict(linear)\n",
    "Q.update(quadratic)\n",
    "\n",
    "# print(Q)\n",
    "\n",
    "sampleset = sampler_auto.sample_qubo(Q2, num_reads=1000)\n",
    "print(sampleset)"
   ]
  },
  {
   "cell_type": "markdown",
   "metadata": {},
   "source": [
    "### Convert Qbit to Decimal "
   ]
  },
  {
   "cell_type": "code",
   "execution_count": 43,
   "metadata": {},
   "outputs": [
    {
     "output_type": "execute_result",
     "data": {
      "text/plain": [
       "{'q1': 0, 'q10': 0, 'q11': 0, 'q12': 0, 'q2': 0, 'q3': 0, 'q4': 1, 'q5': 0, 'q6': 0, 'q7': 0, 'q8': 1, 'q9': 0}"
      ]
     },
     "metadata": {},
     "execution_count": 43
    }
   ],
   "source": [
    "samples = sampleset.samples()\n",
    "sol = samples[0]\n",
    "type(sol)\n",
    "sol"
   ]
  },
  {
   "cell_type": "code",
   "execution_count": 45,
   "metadata": {},
   "outputs": [
    {
     "output_type": "stream",
     "name": "stdout",
     "text": [
      "8\n"
     ]
    },
    {
     "output_type": "error",
     "ename": "ValueError",
     "evalue": "unknown variable 'q13'",
     "traceback": [
      "\u001b[0;31m---------------------------------------------------------------------------\u001b[0m",
      "\u001b[0;31mValueError\u001b[0m                                Traceback (most recent call last)",
      "Cell \u001b[0;32mIn[45], line 21\u001b[0m\n\u001b[1;32m     19\u001b[0m         \u001b[38;5;28;01mif\u001b[39;00m qbit_list[pos1] \u001b[38;5;129;01min\u001b[39;00m solution_sample:\n\u001b[1;32m     20\u001b[0m             res[i] \u001b[38;5;241m+\u001b[39m\u001b[38;5;241m=\u001b[39m (\u001b[38;5;28mpow\u001b[39m(\u001b[38;5;241m2\u001b[39m,j)\u001b[38;5;241m*\u001b[39msolution_sample[qbit_list[pos1]])\n\u001b[0;32m---> 21\u001b[0m         \u001b[38;5;28;01mif\u001b[39;00m \u001b[43mqbit_list\u001b[49m\u001b[43m[\u001b[49m\u001b[43mpos2\u001b[49m\u001b[43m]\u001b[49m\u001b[43m \u001b[49m\u001b[38;5;129;43;01min\u001b[39;49;00m\u001b[43m \u001b[49m\u001b[43msolution_sample\u001b[49m:\n\u001b[1;32m     22\u001b[0m             res[i] \u001b[38;5;241m-\u001b[39m\u001b[38;5;241m=\u001b[39m (\u001b[38;5;28mpow\u001b[39m(\u001b[38;5;241m2\u001b[39m,j)\u001b[38;5;241m*\u001b[39msolution_sample[qbit_list[pos2]])\n\u001b[1;32m     25\u001b[0m \u001b[38;5;66;03m# for i in range(Dimension):\u001b[39;00m\n\u001b[1;32m     26\u001b[0m \u001b[38;5;66;03m#     res.append(0)\u001b[39;00m\n\u001b[1;32m     27\u001b[0m \u001b[38;5;66;03m#     for j in range(qubits):\u001b[39;00m\n\u001b[1;32m     28\u001b[0m \u001b[38;5;66;03m#         res[i] += (pow(2,j)*qbit_per_var[i][j] -  pow(2,j)*qbit_per_var[i][qubits+j])\u001b[39;00m\n",
      "File \u001b[0;32m/usr/local/lib/python3.9/_collections_abc.py:769\u001b[0m, in \u001b[0;36mMapping.__contains__\u001b[0;34m(self, key)\u001b[0m\n\u001b[1;32m    767\u001b[0m \u001b[38;5;28;01mdef\u001b[39;00m \u001b[38;5;21m__contains__\u001b[39m(\u001b[38;5;28mself\u001b[39m, key):\n\u001b[1;32m    768\u001b[0m     \u001b[38;5;28;01mtry\u001b[39;00m:\n\u001b[0;32m--> 769\u001b[0m         \u001b[38;5;28;43mself\u001b[39;49m\u001b[43m[\u001b[49m\u001b[43mkey\u001b[49m\u001b[43m]\u001b[49m\n\u001b[1;32m    770\u001b[0m     \u001b[38;5;28;01mexcept\u001b[39;00m \u001b[38;5;167;01mKeyError\u001b[39;00m:\n\u001b[1;32m    771\u001b[0m         \u001b[38;5;28;01mreturn\u001b[39;00m \u001b[38;5;28;01mFalse\u001b[39;00m\n",
      "File \u001b[0;32m/usr/local/lib/python3.9/site-packages/dimod/views/samples.py:30\u001b[0m, in \u001b[0;36mSampleView.__getitem__\u001b[0;34m(self, v)\u001b[0m\n\u001b[1;32m     29\u001b[0m \u001b[38;5;28;01mdef\u001b[39;00m \u001b[38;5;21m__getitem__\u001b[39m(\u001b[38;5;28mself\u001b[39m, v):\n\u001b[0;32m---> 30\u001b[0m     \u001b[38;5;28;01mreturn\u001b[39;00m \u001b[38;5;28mself\u001b[39m\u001b[38;5;241m.\u001b[39m_data[\u001b[38;5;28;43mself\u001b[39;49m\u001b[38;5;241;43m.\u001b[39;49m\u001b[43m_variables\u001b[49m\u001b[38;5;241;43m.\u001b[39;49m\u001b[43mindex\u001b[49m\u001b[43m(\u001b[49m\u001b[43mv\u001b[49m\u001b[43m)\u001b[49m]\n",
      "File \u001b[0;32m/usr/local/lib/python3.9/site-packages/dimod/cyvariables.pyx:372\u001b[0m, in \u001b[0;36mdimod.cyvariables.cyVariables.index\u001b[0;34m()\u001b[0m\n",
      "File \u001b[0;32m/usr/local/lib/python3.9/site-packages/dimod/cyvariables.pyx:394\u001b[0m, in \u001b[0;36mdimod.cyvariables.cyVariables.index\u001b[0;34m()\u001b[0m\n",
      "\u001b[0;31mValueError\u001b[0m: unknown variable 'q13'"
     ]
    }
   ],
   "source": [
    "samples = sampleset.samples()\n",
    "type(samples[0])\n",
    "solution_sample = samples[0]\n",
    "qbit_per_var_count = int(len(qbit_list)/Dimension)\n",
    "print(qbit_per_var_count)\n",
    "\n",
    "# qbit_per_var = []\n",
    "# for i in range(Dimension):\n",
    "#     qbit_per_var.append(samples[i,qbit_list[qbit_per_var_count*i:qbit_per_var_count*(i+1)]])\n",
    "\n",
    "# print(qbit_per_var)\n",
    "res = []\n",
    "\n",
    "for i in range(Dimension):\n",
    "    res.append(0)\n",
    "    for j in range(qubits):\n",
    "        pos1 = i*2*qubits+ j\n",
    "        pos2 = i*2*qubits+ j + qubits\n",
    "        if qbit_list[pos1] in solution_sample:\n",
    "            res[i] += (pow(2,j)*solution_sample[qbit_list[pos1]])\n",
    "        if qbit_list[pos2] in solution_sample:\n",
    "            res[i] -= (pow(2,j)*solution_sample[qbit_list[pos2]])\n",
    "\n",
    "\n",
    "# for i in range(Dimension):\n",
    "#     res.append(0)\n",
    "#     for j in range(qubits):\n",
    "#         res[i] += (pow(2,j)*qbit_per_var[i][j] -  pow(2,j)*qbit_per_var[i][qubits+j])\n",
    "\n",
    "print(\"Output: \", res)\n",
    "    \n"
   ]
  },
  {
   "cell_type": "code",
   "execution_count": 5,
   "metadata": {},
   "outputs": [
    {
     "output_type": "stream",
     "name": "stdout",
     "text": [
      "({'q1': 23.0, 'q2': 46.0, 'q5': -1.5, 'q6': -3.0, 'q7': 16.5, 'q8': 33.0, 'q3': 7.0, 'q4': 14.0}, {('q1', 'q2'): 10.0, ('q1', 'q5'): 0.5, ('q1', 'q6'): 1.0, ('q1', 'q7'): -0.5, ('q1', 'q8'): -1.0, ('q2', 'q5'): 1.0, ('q2', 'q6'): 2.0, ('q2', 'q7'): -1.0, ('q2', 'q8'): -2.0, ('q3', 'q4'): 10.0, ('q3', 'q5'): -0.5, ('q3', 'q6'): -1.0, ('q3', 'q7'): 0.5, ('q3', 'q8'): 1.0, ('q4', 'q5'): -1.0, ('q4', 'q6'): -2.0, ('q4', 'q7'): 1.0, ('q4', 'q8'): 2.0, ('q5', 'q6'): 5.0, ('q7', 'q8'): 5.0}, 105.0)\n"
     ]
    }
   ],
   "source": [
    "import dimod\n",
    "\n",
    "#print(Q)\n",
    "J = dimod.qubo_to_ising(Q2)\n",
    "print(J)"
   ]
  },
  {
   "cell_type": "code",
   "execution_count": 6,
   "metadata": {},
   "outputs": [
    {
     "output_type": "stream",
     "name": "stdout",
     "text": [
      "  q1 q2 q3 q4 q5 q6 q7 q8 energy num_oc. chain_.\n0 -1 -1 +1 -1 -1 +1 -1 -1 -131.0     741     0.0\n8 -1 -1 +1 -1 -1 +1 -1 -1 -131.0       1   0.125\n1 -1 -1 +1 -1 +1 -1 -1 -1 -126.0     123     0.0\n2 -1 -1 +1 -1 +1 +1 -1 -1 -126.0      92     0.0\n3 -1 -1 -1 -1 -1 +1 -1 -1 -121.0       5     0.0\n4 -1 -1 -1 +1 -1 +1 -1 -1 -121.0      25     0.0\n5 -1 -1 -1 -1 +1 -1 -1 -1 -118.0       2     0.0\n6 -1 -1 -1 +1 +1 +1 -1 -1 -118.0      10     0.0\n7 -1 -1 -1 -1 +1 +1 -1 -1 -114.0       1     0.0\n['SPIN', 9 rows, 1000 samples, 8 variables]\n"
     ]
    }
   ],
   "source": [
    "sampleset = sampler_auto.sample_ising(J[0], J[1], num_reads=1000)\n",
    "print(sampleset)"
   ]
  },
  {
   "cell_type": "code",
   "execution_count": null,
   "metadata": {},
   "outputs": [],
   "source": []
  }
 ],
 "metadata": {
  "kernelspec": {
   "name": "python3",
   "display_name": "Python 3.9.16 64-bit"
  },
  "language_info": {
   "codemirror_mode": {
    "name": "ipython",
    "version": 3
   },
   "file_extension": ".py",
   "mimetype": "text/x-python",
   "name": "python",
   "nbconvert_exporter": "python",
   "pygments_lexer": "ipython3",
   "version": "3.9.16"
  },
  "toc": {
   "base_numbering": 1,
   "nav_menu": {},
   "number_sections": true,
   "sideBar": true,
   "skip_h1_title": false,
   "title_cell": "Table of Contents",
   "title_sidebar": "Contents",
   "toc_cell": false,
   "toc_position": {},
   "toc_section_display": true,
   "toc_window_display": false
  },
  "interpreter": {
   "hash": "4cd7ab41f5fca4b9b44701077e38c5ffd31fe66a6cab21e0214b68d958d0e462"
  }
 },
 "nbformat": 4,
 "nbformat_minor": 4
}