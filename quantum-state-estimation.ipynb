{
 "cells": [
  {
   "cell_type": "markdown",
   "metadata": {},
   "source": [
    "## MATRIX INVERSION AS A QUBO PROBLEM\n",
    "\n",
    "Ref  \n",
    "[1.Floating-Point Calculations on a Quantum Annealer:\n",
    "Division and Matrix Inversion](https://arxiv.org/pdf/1901.06526.pdf)\n",
    "\n",
    "In this section we present an algorithm for solving a system of linear equations on a\n",
    "quantum annealer. To precisely define the mathematical problem, let $M$ be a nonsingular $N × N$ real matrix, and let $Y$ be a real $N$ dimensional vector; we then wish to solve the linear equation\n",
    "$$ M · x = Y$$\n",
    "The linearity of the system means that there is a unique solution,\n",
    "$$x = M^{−1} · Y$$\n",
    "\n",
    "Constructing a quadratic matrix \n",
    "$$H(x) = (M x − Y)^2 = (M x − Y)^T · (M x − Y)$$\n",
    "$$H(x) = x^T M^T Mx - x^T M^T Y - Y^T M x +Y^T Y$$\n",
    "$$H(x) = \\sum_{ijk=1}^{N} M_{ki} M_{kj} x^i x^j - 2\\sum_{ij=1}^N Y_j M_{ji} x^i + ||Y^2||$$\n",
    "To obtain a floating point representation of each component\n",
    "of $x = (x_1, · · · , x_N)^T$ by expanding in powers of 2 multiplied by Boolean-valued variables\n",
    "$$\\chi^i = \\sum_{r=0}^{R-1} 2^{-r}q_r^i $$\n",
    "$$x^i = 2\\chi^i-1$$\n",
    "\n",
    "As before, the domains are give by $\\chi^i\\in [0, 2)$ and $x^i \\in [−1, 3)$, and upon expressing $x$ as a function the $q__r^i$ we can recast $H(x)$ in the form  \n",
    "$$H(q) = \\sum_{i=1}^{N}\\sum_{r=0}^{R-1} a_r^i q_r^j + \\sum_{i=1}^N \\sum_{i\\neq j=1}^N \\sum_{r=0}^{R-1} \\sum_{s=0}^{R-1} b_{rs}^{ij} q_{r}^i q_s^i$$"
   ]
  },
  {
   "cell_type": "code",
   "execution_count": 2,
   "metadata": {
    "_cell_guid": "b1076dfc-b9ad-4769-8c92-a6c4dae69d19",
    "_uuid": "8f2839f25d086af736a60e9eeb907d3b93b6e0e5",
    "scrolled": true
   },
   "outputs": [
    {
     "name": "stdout",
     "output_type": "stream",
     "text": [
      "# Matrix Q is\n",
      "[[ 26.  40.   0.   0.   2.   4.  -2.  -4.]\n",
      " [  0.  72.   0.   0.   4.   8.  -4.  -8.]\n",
      " [  0.   0.  -6.  40.  -2.  -4.   2.   4.]\n",
      " [  0.   0.   0.   8.  -4.  -8.   4.   8.]\n",
      " [  0.   0.   0.   0. -13.  20.   0.   0.]\n",
      " [  0.   0.   0.   0.   0. -16.   0.   0.]\n",
      " [  0.   0.   0.   0.   0.   0.  23.  20.]\n",
      " [  0.   0.   0.   0.   0.   0.   0.  56.]]\n"
     ]
    }
   ],
   "source": [
    "# This Python 3 environment comes with many helpful analytics libraries installed\n",
    "# It is defined by the kaggle/python Docker image: https://github.com/kaggle/docker-python\n",
    "# For example, here's several helpful packages to load\n",
    "\n",
    "import numpy as np\n",
    "import random, math\n",
    "import copy\n",
    "\n",
    "Dimension = 2\n",
    "qubits = 2\n",
    "A = np.array([[3, 1], [-1, 2]])\n",
    "b = np.array([-1, 5])\n",
    "\n",
    "QM = np.zeros((2*qubits*Dimension, 2*qubits*Dimension))\n",
    "for k in range(Dimension): \n",
    "    for i in range(Dimension):\n",
    "        for l in range(qubits):\n",
    "            cef1 = pow(2,2*l)*pow(A[k][i],2)\n",
    "            cef2 = pow(2,l+1)*A[k][i]*b[k]\n",
    "            po1 = 4*i + l\n",
    "            po2 = 4*i + l + 2\n",
    "            QM[po1][po1] = QM[po1][po1] + cef1 - cef2\n",
    "            QM[po2][po2] = QM[po2][po2] + cef1 + cef2\n",
    "\n",
    "for k in range(Dimension):\n",
    "    for i in range(Dimension):\n",
    "        for l1 in range(qubits-1):\n",
    "            for l2 in range(l1+1,qubits):\n",
    "                qcef = pow(2, l1+l2+1)*pow(A[k][i],2)\n",
    "                po1 = 4*i + l1\n",
    "                po2 = 4*i + l2\n",
    "                QM[po1][po2] = QM[po1][po2] + qcef\n",
    "                po3 = 4*i + l1 + 2\n",
    "                po4 = 4*i + l2 + 2\n",
    "                QM[po3][po4] = QM[po3][po4] + qcef\n",
    "\n",
    "for k in range(Dimension):\n",
    "    for i in range(Dimension-1):\n",
    "            for j in range(i+1,Dimension):\n",
    "                for l1 in range(qubits):\n",
    "                    for l2 in range(qubits):\n",
    "                        qcef = pow(2, l1+l2+1)*A[k][i]*A[k][j]\n",
    "                        po1 = 4*i + l1\n",
    "                        po2 = 4*j + l2\n",
    "                        QM[po1][po2] = QM[po1][po2] + qcef\n",
    "                        po3 = 4*i + l1 + 2\n",
    "                        po4 = 4*j + l2 + 2\n",
    "                        QM[po3][po4] = QM[po3][po4] + qcef\n",
    "                        po5 = 4*i + l1\n",
    "                        po6 = 4*j + l2 + 2\n",
    "                        QM[po5][po6] = QM[po5][po6] - qcef\n",
    "                        po7 = 4*i + l1 + 2\n",
    "                        po8 = 4*j + l2\n",
    "                        QM[po7][po8] = QM[po7][po8] - qcef\n",
    "\n",
    "# Print Matrix Q\n",
    "print(\"# Matrix Q is\")\n",
    "print(QM)"
   ]
  },
  {
   "cell_type": "markdown",
   "metadata": {},
   "source": [
    "## Apply QUBO"
   ]
  },
  {
   "cell_type": "code",
   "execution_count": 6,
   "metadata": {},
   "outputs": [
    {
     "name": "stdout",
     "output_type": "stream",
     "text": [
      "  q1 q2 q3 q4 q5 q6 q7 q8 energy num_oc. chain_.\n",
      "0  0  0  1  0  0  1  0  0  -26.0     827     0.0\n",
      "1  0  0  1  0  1  1  0  0  -21.0      81     0.0\n",
      "2  0  0  1  0  1  0  0  0  -21.0      66     0.0\n",
      "3  0  0  0  0  0  1  0  0  -16.0       6     0.0\n",
      "4  0  0  0  1  0  1  0  0  -16.0      14     0.0\n",
      "5  0  0  0  1  1  1  0  0  -13.0       2     0.0\n",
      "6  0  0  0  0  1  1  0  0   -9.0       1     0.0\n",
      "7  0  0  0  1  1  0  0  0   -9.0       1     0.0\n",
      "8  0  0  1  0  0  0  0  0   -6.0       1     0.0\n",
      "9  0  0  1  0  0  1  1  0   -1.0       1     0.0\n",
      "['BINARY', 10 rows, 1000 samples, 8 variables]\n"
     ]
    }
   ],
   "source": [
    "from dwave.system import DWaveSampler, EmbeddingComposite\n",
    "sampler_auto = EmbeddingComposite(DWaveSampler(solver={'qpu': True}))\n",
    "\n",
    "linear = {('q1','q1'):26.0, ('q2','q2'):72.0, ('q3','q3'):-6.0, ('q4','q4'):8.0, ('q5','q5'):-13.0, ('q6','q6'):-16.0, ('q7','q7'):23.0, ('q8','q8'):56.0}\n",
    "\n",
    "quadratic = {('q1','q2'):40.0, ('q1','q5'):2.0, ('q1','q6'):4.0, ('q1','q7'):-2.0, ('q1','q8'):-4.0, ('q2','q5'):4.0, ('q2','q6'):8.0, ('q2','q7'):-4.0, ('q2','q8'):-8.0, ('q3','q4'):40.0, ('q3','q5'):-2.0, ('q3','q6'):-4.0, ('q3','q7'):2.0, ('q3','q8'):4.0, ('q4','q5'):-4.0, ('q4','q6'):-8.0, ('q4','q7'):4.0, ('q4','q8'):8.0, ('q5','q6'):20.0, ('q7','q8'):20.0}\n",
    "\n",
    "Q = dict(linear)\n",
    "Q.update(quadratic)\n",
    "\n",
    "sampleset = sampler_auto.sample_qubo(Q, num_reads=1000)\n",
    "print(sampleset)"
   ]
  },
  {
   "cell_type": "code",
   "execution_count": 8,
   "metadata": {},
   "outputs": [
    {
     "name": "stdout",
     "output_type": "stream",
     "text": [
      "({'q1': 23.0, 'q2': 46.0, 'q3': 7.0, 'q4': 14.0, 'q5': -1.5, 'q6': -3.0, 'q7': 16.5, 'q8': 33.0}, {('q1', 'q2'): 10.0, ('q1', 'q5'): 0.5, ('q1', 'q6'): 1.0, ('q1', 'q7'): -0.5, ('q1', 'q8'): -1.0, ('q2', 'q5'): 1.0, ('q2', 'q6'): 2.0, ('q2', 'q7'): -1.0, ('q2', 'q8'): -2.0, ('q3', 'q4'): 10.0, ('q3', 'q5'): -0.5, ('q3', 'q6'): -1.0, ('q3', 'q7'): 0.5, ('q3', 'q8'): 1.0, ('q4', 'q5'): -1.0, ('q4', 'q6'): -2.0, ('q4', 'q7'): 1.0, ('q4', 'q8'): 2.0, ('q5', 'q6'): 5.0, ('q7', 'q8'): 5.0}, 105.0)\n"
     ]
    }
   ],
   "source": [
    "import dimod\n",
    "\n",
    "#print(Q)\n",
    "J = dimod.qubo_to_ising(Q)\n",
    "print(J)"
   ]
  },
  {
   "cell_type": "code",
   "execution_count": 10,
   "metadata": {},
   "outputs": [
    {
     "name": "stdout",
     "output_type": "stream",
     "text": [
      "  q1 q2 q3 q4 q5 q6 q7 q8 energy num_oc. chain_.\n",
      "0 -1 -1 +1 -1 -1 +1 -1 -1 -131.0     784     0.0\n",
      "1 -1 -1 +1 -1 +1 +1 -1 -1 -126.0      55     0.0\n",
      "2 -1 -1 +1 -1 +1 -1 -1 -1 -126.0     125     0.0\n",
      "3 -1 -1 -1 +1 -1 +1 -1 -1 -121.0      27     0.0\n",
      "4 -1 -1 -1 -1 -1 +1 -1 -1 -121.0       1     0.0\n",
      "5 -1 -1 -1 -1 +1 -1 -1 -1 -118.0       2     0.0\n",
      "6 -1 -1 -1 +1 +1 +1 -1 -1 -118.0       4     0.0\n",
      "7 -1 -1 +1 -1 -1 -1 -1 -1 -111.0       2     0.0\n",
      "['SPIN', 8 rows, 1000 samples, 8 variables]\n"
     ]
    }
   ],
   "source": [
    "sampleset = sampler_auto.sample_ising(J[0], J[1], num_reads=1000)\n",
    "print(sampleset)"
   ]
  },
  {
   "cell_type": "code",
   "execution_count": null,
   "metadata": {},
   "outputs": [],
   "source": []
  }
 ],
 "metadata": {
  "kernelspec": {
   "display_name": "Python 3 (ipykernel)",
   "language": "python",
   "name": "python3"
  },
  "language_info": {
   "codemirror_mode": {
    "name": "ipython",
    "version": 3
   },
   "file_extension": ".py",
   "mimetype": "text/x-python",
   "name": "python",
   "nbconvert_exporter": "python",
   "pygments_lexer": "ipython3",
   "version": "3.9.16"
  },
  "toc": {
   "base_numbering": 1,
   "nav_menu": {},
   "number_sections": true,
   "sideBar": true,
   "skip_h1_title": false,
   "title_cell": "Table of Contents",
   "title_sidebar": "Contents",
   "toc_cell": false,
   "toc_position": {},
   "toc_section_display": true,
   "toc_window_display": false
  }
 },
 "nbformat": 4,
 "nbformat_minor": 4
}
